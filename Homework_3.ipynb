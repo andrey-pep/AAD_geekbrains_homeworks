{
 "cells": [
  {
   "cell_type": "code",
   "execution_count": 214,
   "metadata": {},
   "outputs": [],
   "source": [
    "import numpy as np\n",
    "import matplotlib.pyplot as plt\n",
    "\n",
    "#task 1\n",
    "def calc_logloss(y, y_pred):\n",
    "    y_pred = np.clip(y_pred, 1e-12, 1)\n",
    "    a = 1.0 - y_pred\n",
    "    a = np.clip(a, 1e-12, 1)    \n",
    "    err = - np.mean(y * np.log(y_pred) + (1.0 - y) * np.log(a))\n",
    "    return err"
   ]
  },
  {
   "cell_type": "code",
   "execution_count": 215,
   "metadata": {},
   "outputs": [],
   "source": [
    "def eval_model(X, y, iterations, alpha=1e-4):\n",
    "    np.random.seed(42)\n",
    "    W = np.random.randn(X.shape[0])\n",
    "    n = X.shape[1]\n",
    "    for i in range(1, iterations+1):\n",
    "        z = np.dot(W, X)\n",
    "        y_pred = sigmoid(z)\n",
    "        err = calc_logloss(y, y_pred)\n",
    "        W -= alpha * (1/n * np.dot((y_pred - y), X.T))\n",
    "#     if i % (iterations / 10) == 0:\n",
    "#         print(i, W, err, alpha)\n",
    "    return W, err"
   ]
  },
  {
   "cell_type": "code",
   "execution_count": 216,
   "metadata": {},
   "outputs": [],
   "source": [
    "y = np.array([0, 0, 1, 0, 1, 0, 1, 0, 1, 1], dtype = np.float64)"
   ]
  },
  {
   "cell_type": "code",
   "execution_count": 217,
   "metadata": {},
   "outputs": [],
   "source": [
    "X = np.array([[1, 1, 1, 1, 1, 1, 1, 1, 1, 1],\n",
    "              [1, 1, 2, 1, 3, 0, 5, 10, 1, 2],\n",
    "              [500, 700, 750, 600, 1450,\n",
    "               800, 1500, 2000, 450, 1000],\n",
    "              [1, 1, 2, 1, 2, \n",
    "               1, 3, 3, 1, 2]], dtype = np.float64)\n",
    "X_st = X.copy()"
   ]
  },
  {
   "cell_type": "code",
   "execution_count": 218,
   "metadata": {},
   "outputs": [],
   "source": [
    "def sigmoid(z):\n",
    "    res = 1 / (1 + np.exp(-z))\n",
    "    return res"
   ]
  },
  {
   "cell_type": "code",
   "execution_count": 219,
   "metadata": {},
   "outputs": [
    {
     "data": {
      "text/plain": [
       "0.6047007196667514"
      ]
     },
     "execution_count": 219,
     "metadata": {},
     "output_type": "execute_result"
    },
    {
     "data": {
      "image/png": "[encoded data removed]",
      "text/plain": [
       "<Figure size 1080x360 with 1 Axes>"
      ]
     },
     "metadata": {
      "needs_background": "light"
     },
     "output_type": "display_data"
    }
   ],
   "source": [
    "#task 2\n",
    "def test_alphas(x, alphas, iterations):\n",
    "    logloss_values = []\n",
    "    for alpha in (alphas):\n",
    "        W, err = eval_model(x, y, iterations=iterations, alpha=alpha)\n",
    "        logloss_values.append(err)\n",
    "    fig = plt.figure(figsize=(15, 5))\n",
    "    plt.plot(alphas, logloss_values, linewidth=3)\n",
    "    return np.amin(logloss_values)\n",
    "    \n",
    "test_alphas(X.copy(), [1e-1, 1e-2, 1e-3, 1e-4, 1e-5, 1e-6, 1e-7], 5000)"
   ]
  },
  {
   "cell_type": "code",
   "execution_count": 220,
   "metadata": {},
   "outputs": [
    {
     "data": {
      "text/plain": [
       "0.6042581466234287"
      ]
     },
     "execution_count": 220,
     "metadata": {},
     "output_type": "execute_result"
    },
    {
     "data": {
      "image/png": "[encoded data removed]",
      "text/plain": [
       "<Figure size 1080x360 with 1 Axes>"
      ]
     },
     "metadata": {
      "needs_background": "light"
     },
     "output_type": "display_data"
    }
   ],
   "source": [
    "test_alphas(X.copy(), [4e-6, 5e-6, 6e-6, 7e-6, 8e-6, 9e-6], 5000)"
   ]
  },
  {
   "cell_type": "code",
   "execution_count": 221,
   "metadata": {},
   "outputs": [
    {
     "data": {
      "text/plain": [
       "array([0.65864986, 0.54195374, 0.80788375, 0.60174635, 0.39872448,\n",
       "       0.51475055, 0.67304269, 0.23551474, 0.68558345, 0.69529169])"
      ]
     },
     "execution_count": 221,
     "metadata": {},
     "output_type": "execute_result"
    }
   ],
   "source": [
    "#task3\n",
    "def calc_pred_proba(W, X):\n",
    "    p = 1 / (1 + np.exp(-np.dot(W, X)))\n",
    "    return p\n",
    "X_st = X.copy()\n",
    "W, err = eval_model(X_st, y, iterations=10000, alpha=8e-06)\n",
    "p = calc_pred_proba(W, X_st)\n",
    "p"
   ]
  },
  {
   "cell_type": "code",
   "execution_count": 265,
   "metadata": {},
   "outputs": [],
   "source": [
    "#task4\n",
    "def calc_pred(W, X):\n",
    "    A = sigmoid(np.dot(W.T, X))\n",
    "    y_pred = []\n",
    "    print(A)\n",
    "    for i in (A):\n",
    "        if (i <= 0.5):\n",
    "            y_pred.append(0)\n",
    "        else:\n",
    "            y_pred.append(1)\n",
    "    return y_pred"
   ]
  },
  {
   "cell_type": "code",
   "execution_count": 266,
   "metadata": {},
   "outputs": [
    {
     "name": "stdout",
     "output_type": "stream",
     "text": [
      "[0.65864986 0.54195374 0.80788375 0.60174635 0.39872448 0.51475055\n",
      " 0.67304269 0.23551474 0.68558345 0.69529169]\n"
     ]
    },
    {
     "data": {
      "text/plain": [
       "[1, 1, 1, 1, 0, 1, 1, 0, 1, 1]"
      ]
     },
     "execution_count": 266,
     "metadata": {},
     "output_type": "execute_result"
    }
   ],
   "source": [
    "y_pred = calc_pred(W, X.copy())\n",
    "y_pred"
   ]
  },
  {
   "cell_type": "code",
   "execution_count": 273,
   "metadata": {},
   "outputs": [],
   "source": [
    "#task5\n",
    "def accuracy(y, y_pred):\n",
    "    a = (1 / len(y)) * np.sum(y_pred == y)\n",
    "    return a"
   ]
  },
  {
   "cell_type": "code",
   "execution_count": 286,
   "metadata": {},
   "outputs": [
    {
     "data": {
      "text/plain": [
       "0.5"
      ]
     },
     "execution_count": 286,
     "metadata": {},
     "output_type": "execute_result"
    }
   ],
   "source": [
    "a = accuracy(y, y_pred)\n",
    "a"
   ]
  },
  {
   "cell_type": "code",
   "execution_count": 420,
   "metadata": {},
   "outputs": [
    {
     "data": {
      "text/plain": [
       "[array([False, False,  True, False, False, False,  True,  True,  True,\n",
       "         True]),\n",
       " array([ True,  True,  True,  True, False,  True,  True, False,  True,\n",
       "         True])]"
      ]
     },
     "execution_count": 420,
     "metadata": {},
     "output_type": "execute_result"
    }
   ],
   "source": [
    "def error_matrix(y, y_pred):\n",
    "    t = np.zeros(len(y_pred))\n",
    "    m = [(y_pred == y), (t != y_pred)]\n",
    "    return m\n",
    "m = error_matrix(y, y_pred)\n",
    "m"
   ]
  },
  {
   "cell_type": "code",
   "execution_count": 438,
   "metadata": {},
   "outputs": [],
   "source": [
    "def calc_tp(m):\n",
    "    return np.sum([m[0][i] and m[1][i] for i in range(len(m[0]))])\n",
    "def calc_fp(m):\n",
    "    return np.sum([not (m[0][i]) and m[1][i] for i in range(len(m[0]))])\n",
    "def calc_fn(m):\n",
    "    return np.sum([(m[0][i]) and not m[1][i] for i in range(len(m[0]))])"
   ]
  },
  {
   "cell_type": "code",
   "execution_count": 439,
   "metadata": {},
   "outputs": [
    {
     "data": {
      "text/plain": [
       "0.5"
      ]
     },
     "execution_count": 439,
     "metadata": {},
     "output_type": "execute_result"
    }
   ],
   "source": [
    "#tp/(tp+fp)\n",
    "def precision(m):\n",
    "    tp = calc_tp(m)\n",
    "    fp = calc_fp(m)\n",
    "    return tp/(tp + fp)\n",
    "\n",
    "prec = precision(m)\n",
    "prec"
   ]
  },
  {
   "cell_type": "code",
   "execution_count": 440,
   "metadata": {},
   "outputs": [
    {
     "name": "stdout",
     "output_type": "stream",
     "text": [
      "1\n"
     ]
    },
    {
     "data": {
      "text/plain": [
       "0.8"
      ]
     },
     "execution_count": 440,
     "metadata": {},
     "output_type": "execute_result"
    }
   ],
   "source": [
    "#tp/(tp+fn)\n",
    "def recall(m):\n",
    "    tp = calc_tp(m)\n",
    "    fn = calc_fn(m)\n",
    "    print(fn)\n",
    "    return tp / (tp + fn)\n",
    "rec = recall(m)\n",
    "rec"
   ]
  },
  {
   "cell_type": "code",
   "execution_count": null,
   "metadata": {},
   "outputs": [],
   "source": [
    "#F = (2 * precision * recall) / (presision+recall)\n",
    "def f1_score(m):\n",
    "    prec = precision(m)\n",
    "    rec = recall(m)\n",
    "    return (2 * prec * rec) / (prec+rec)\n",
    "\n",
    "f1 = f1"
   ]
  }
 ],
 "metadata": {
  "kernelspec": {
   "display_name": "Python 3",
   "language": "python",
   "name": "python3"
  },
  "language_info": {
   "codemirror_mode": {
    "name": "ipython",
    "version": 3
   },
   "file_extension": ".py",
   "mimetype": "text/x-python",
   "name": "python",
   "nbconvert_exporter": "python",
   "pygments_lexer": "ipython3",
   "version": "3.7.4"
  }
 },
 "nbformat": 4,
 "nbformat_minor": 2
}
